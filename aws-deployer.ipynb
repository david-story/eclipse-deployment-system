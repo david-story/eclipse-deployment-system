{
 "cells": [
  {
   "cell_type": "markdown",
   "metadata": {},
   "source": [
    "## Notebook For Eclipse Software Deployment ##\n",
    "<i>Written by David Story </i>\n",
    "\n",
    "___\n",
    "### Description\n",
    "This notebook was written to be an easy-to-use plateform for deploying and implementing software to AWS cloud computing services and creating datasets for the Eclipse Megamovie project, as well as related computationally heavy research projects.\n",
    "\n",
    "This notebook will automate a number of tasks for preparing your AWS EC2 instances and deploying software to those instances. \n",
    "\n",
    "This notebook will:\n",
    "<ul style=squares>\n",
    "    <li>Create a specified amount of instances</li>\n",
    "    <li>Send datasets to those instances</li>\n",
    "    <li>Send processing jobs and parameters to instances</li>\n",
    "    <li>Run jobs</li>\n",
    "    <li>Monitor jobs</li>\n",
    "    <li>Retrieve and store results</li>\n",
    "</ul>\n",
    "\n",
    "___\n",
    "### Information on Provided Files ###\n",
    "This repository contains the following folders:\n",
    "<ul style=squares>\n",
    "    <li>examples</li>\n",
    "    <li>keys</li>\n",
    "    <li>documentation</li>\n",
    "    <li>images</li>\n",
    "    <li>movies</li>\n",
    "    <li>logs</li>\n",
    "    <li>figures</li>\n",
    "    <li>results</li>\n",
    "</ul>\n",
    "\n",
    "\n",
    "___\n",
    "#### examples: ####\n",
    "This folder provides example files that will allow you to understand how files are being fed to this notebook, and how they are formated, to help you understand how to generate your files to allow this notebook to run smoothly.\n",
    "\n",
    "#### keys: ####\n",
    "This folder should hold your ssh or .pem keys that you generated for your EC2 instance\n",
    "\n",
    "#### documentation: ####\n",
    "This should should hold the .csv that describes your EC2 instance names and attributes.\n",
    "\n",
    "#### images: ####\n",
    "This should hold any images generated.\n",
    "\n",
    "#### movies: ####\n",
    "This folder should hold any movies generated.\n",
    "\n",
    "#### servers: ####\n",
    "This folder should hold any logs generated relating to server performance, states, and program performance and states.\n",
    "\n",
    "#### figures: ####\n",
    "This folder should hold any figures generated.\n",
    "\n",
    "#### results: ####\n",
    "This folder should hold any results generated.\n",
    "\n",
    "___\n",
    "### Dependencies\n",
    "This notebook requires the following dependenices\n",
    "<ul style=squares>\n",
    "    <li>boto3</li>\n",
    "    <li>botocore</li>\n",
    "    <li>jmespath</li>\n",
    "    <li>s3transfer</li>\n",
    "</ul>"
   ]
  },
  {
   "cell_type": "markdown",
   "metadata": {},
   "source": [
    "___\n",
    "### Setting up AWS Config\n",
    "\n",
    "We will be using the Boto3 API to interface Python with AWS, before we can do that we need to instance the AWS CLI from here: https://aws.amazon.com/cli/\n",
    "\n",
    "After you have installed the CLI, you must configure your AWS credentials on the machine that you will run this code on, the configuration process can be found here: https://boto3.amazonaws.com/v1/documentation/api/latest/guide/quickstart.html#configuration\n",
    "\n",
    "<b>Ensure that in the configure step you set your region to the region that your EC2 and S3 instances and buckets are at, else you will not be able to access them with the API</b> "
   ]
  },
  {
   "cell_type": "markdown",
   "metadata": {},
   "source": [
    "___\n",
    "\n",
    "### Viewing your current EC2 Instances###\n",
    "\n",
    "Using the Boto3 library, we are able to acquire information about our instances that are in AWS using this Python API, below we are importing the libraries we will need:"
   ]
  },
  {
   "cell_type": "code",
   "execution_count": 2,
   "metadata": {},
   "outputs": [],
   "source": [
    "import sys\n",
    "import boto3 "
   ]
  },
  {
   "cell_type": "markdown",
   "metadata": {},
   "source": [
    "Now that the libraries are acquired, we will use the ec2 resource to see what instances that are stopped are on our console:"
   ]
  },
  {
   "cell_type": "code",
   "execution_count": 3,
   "metadata": {},
   "outputs": [
    {
     "name": "stdout",
     "output_type": "stream",
     "text": [
      "EC2 Instances Running:\n",
      "\n",
      "EC2 Instances Stopped:\n",
      "i-0d606940d0ad53cd1 t2.micro\n",
      "i-06413b62ffcd07c4d t2.micro\n",
      "i-03a2ab946f0ac123e t2.micro\n"
     ]
    }
   ],
   "source": [
    "# variable for ec2 resource\n",
    "ec2 = boto3.resource('ec2')\n",
    "\n",
    "# printing what running instances we have up\n",
    "print(\"EC2 Instances Running:\")\n",
    "\n",
    "# filtering for instances by name and if running\n",
    "running_instances = ec2.instances.filter(\n",
    "    Filters=[{'Name': 'instance-state-name', 'Values': ['running']}])\n",
    "\n",
    "# printing the names of running instances and their machine type\n",
    "for instance in running_instances:\n",
    "    print(instance.id, instance.instance_type)\n",
    "\n",
    "# printing what stopped instances we have\n",
    "print(\"\\nEC2 Instances Stopped:\")\n",
    "\n",
    "# filtering for instances by name and if stopped\n",
    "stopped_instances = ec2.instances.filter(\n",
    "    Filters=[{'Name': 'instance-state-name', 'Values': ['stopped']}])\n",
    "\n",
    "# printing the names of running instances and their machine type\n",
    "for instance in stopped_instances:\n",
    "    print(instance.id, instance.instance_type)"
   ]
  },
  {
   "cell_type": "markdown",
   "metadata": {},
   "source": [
    "### Setting up the instances we want ###\n",
    "\n",
    "We will now be preparing the instances that we want to process the images with.\n",
    "\n",
    "<b> Warning: in the following process we will be stopping all of the current instances and creating a defined amount of instances that we will use for our image processing </b>\n",
    "\n",
    "You will be asked to confirm that you want to begin the process of pausing your instances and starting the server process."
   ]
  },
  {
   "cell_type": "code",
   "execution_count": null,
   "metadata": {},
   "outputs": [],
   "source": []
  }
 ],
 "metadata": {
  "kernelspec": {
   "display_name": "Python 3",
   "language": "python",
   "name": "python3"
  },
  "language_info": {
   "codemirror_mode": {
    "name": "ipython",
    "version": 3
   },
   "file_extension": ".py",
   "mimetype": "text/x-python",
   "name": "python",
   "nbconvert_exporter": "python",
   "pygments_lexer": "ipython3",
   "version": "3.7.1"
  }
 },
 "nbformat": 4,
 "nbformat_minor": 2
}
