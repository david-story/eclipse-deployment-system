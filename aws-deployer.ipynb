{
 "cells": [
  {
   "cell_type": "markdown",
   "metadata": {},
   "source": [
    "## Notebook For Eclipse Software Deployment ##\n",
    "<i>Written by David Story </i>\n",
    "\n",
    "___\n",
    "### Description\n",
    "This notebook was written to be an easy-to-use plateform for deploying and implementing software to AWS cloud computing services and creating datasets for the Eclipse Megamovie project, as well as related computationally heavy research projects.\n",
    "\n",
    "This notebook will automate a number of tasks for preparing your AWS EC2 instances and deploying software to those instances. \n",
    "\n",
    "This notebook will:\n",
    "\n",
    "- Create a specified amount of instances\n",
    "- Send datasets to those instances\n",
    "- Send processing jobs and parameters to instances\n",
    "- Run jobs\n",
    "- Monitor jobs\n",
    "- Retrieve and store results\n",
    "___\n",
    "### Information on Provided Files ###\n",
    "This repository contains the following folders:\n",
    "\n",
    "   - examples\n",
    "   - keys\n",
    "   - documentation\n",
    "   - images\n",
    "   - movies\n",
    "   - logs\n",
    "   - figures\n",
    "   - results\n",
    "\n",
    "___\n",
    "#### examples: ####\n",
    "This folder provides example files that will allow you to understand how files are being fed to this notebook, and how they are formated, to help you understand how to generate your files to allow this notebook to run smoothly.\n",
    "\n",
    "#### keys: ####\n",
    "This folder should hold your ssh or .pem keys that you generated for your EC2 instance\n",
    "\n",
    "#### documentation: ####\n",
    "This should should hold the .csv that describes your EC2 instance names and attributes.\n",
    "\n",
    "#### images: ####\n",
    "This should hold any images generated.\n",
    "\n",
    "#### movies: ####\n",
    "This folder should hold any movies generated.\n",
    "\n",
    "#### servers: ####\n",
    "This folder should hold any logs generated relating to server performance, states, and program performance and states.\n",
    "\n",
    "#### figures: ####\n",
    "This folder should hold any figures generated.\n",
    "\n",
    "#### results: ####\n",
    "This folder should hold any results generated.\n",
    "\n",
    "___\n",
    "### Dependencies\n",
    "This notebook requires the following dependenices\n",
    "\n",
    "   - boto3\n",
    "   - botocore\n",
    "   - jmespath\n"
   ]
  },
  {
   "cell_type": "markdown",
   "metadata": {},
   "source": [
    "___\n",
    "### Setting up AWS Config\n",
    "\n",
    "We will be using the Boto3 API to interface Python with AWS, before we can do that we need to instance the AWS CLI from here:\n",
    "\n",
    "https://aws.amazon.com/cli/\n",
    "\n",
    "After you have installed the CLI, you must configure your AWS credentials on the machine that you will run this code on, the configuration process can be found here:\n",
    "\n",
    "https://boto3.amazonaws.com/v1/documentation/api/latest/guide/quickstart.html#configuration\n",
    "\n",
    "<b>Ensure that in the configure step you set your region to the region that your EC2 and S3 instances and buckets are at, else you will not be able to access them with the API</b> "
   ]
  },
  {
   "cell_type": "markdown",
   "metadata": {},
   "source": [
    "___\n",
    "\n",
    "### Viewing your current EC2 Instances###\n",
    "\n",
    "Using the Boto3 library, we are able to acquire information about our instances that are in AWS using this Python API, below we are importing the libraries we will need:"
   ]
  },
  {
   "cell_type": "code",
   "execution_count": 6,
   "metadata": {},
   "outputs": [],
   "source": [
    "import sys\n",
    "import boto3\n",
    "from botocore.exceptions import ClientError\n",
    "import time\n",
    "import os\n",
    "import platform"
   ]
  },
  {
   "cell_type": "markdown",
   "metadata": {},
   "source": [
    "Now that the libraries are acquired, we will use the ec2 resource to see what instances we currently have on our console:"
   ]
  },
  {
   "cell_type": "code",
   "execution_count": null,
   "metadata": {},
   "outputs": [],
   "source": [
    "# variable for ec2 resource\n",
    "ec2 = boto3.resource('ec2')\n",
    "client = boto3.client('ec2')\n",
    "\n",
    "# printing what running instances we have up\n",
    "print(\"EC2 Instances Running:\")\n",
    "\n",
    "# filtering for instances by name and if running\n",
    "running_instances = ec2.instances.filter(\n",
    "    Filters=[{'Name': 'instance-state-name', 'Values': ['running']}])\n",
    "\n",
    "# printing the names of running instances and their machine type\n",
    "for instance in running_instances:\n",
    "    print(instance.id, instance.instance_type)\n",
    "\n",
    "# printing what stopped instances we have\n",
    "print(\"\\nEC2 Instances Stopped:\")\n",
    "\n",
    "# filtering for instances by name and if stopped\n",
    "stopped_instances = ec2.instances.filter(\n",
    "    Filters=[{'Name': 'instance-state-name', 'Values': ['stopped']}])\n",
    "\n",
    "# printing the names of running instances and their machine type\n",
    "for instance in stopped_instances:\n",
    "    print(instance.id, instance.instance_type)\n",
    "\n",
    "# for other cases other than running or stopped\n",
    "other_instances = ec2.instances.filter(\n",
    "    Filters=[{'Name': 'instance-state-name', 'Values': ['pending', 'shutting-down',\n",
    "                                                    'terminated','stopping']}])\n",
    "\n",
    "print(\"\\nEC2 Instances Other:\")\n",
    "for instance in other_instances:\n",
    "    print(instance.id, instance.instance_type)\n",
    "    \n",
    "print(\"\\nDone Searching\")"
   ]
  },
  {
   "cell_type": "markdown",
   "metadata": {},
   "source": [
    "### Setting up the instances needed ###\n",
    "\n",
    "We will now be preparing the instances that we want to process the images with.\n",
    "\n",
    "<b> Warning: in the following process we will be stopping all of the current instances and creating a defined amount of instances that we will use for our image processing </b>\n",
    "\n",
    "You will be asked to confirm that you want to begin the process of pausing your instances and starting the server process."
   ]
  },
  {
   "cell_type": "code",
   "execution_count": null,
   "metadata": {},
   "outputs": [],
   "source": [
    "# Waits for user to authorize stop of their instances\n",
    "go = False\n",
    "while(go == False):\n",
    "    user = input(\"Authorize to stop and store current instances ([Y]/n): \")\n",
    "    if (user == \"Y\"):\n",
    "        go = True\n",
    "    elif (user == 'n'):\n",
    "        print(\"Entered No: Exiting Program\")\n",
    "        sys.exit()\n",
    "    else:\n",
    "        print(\"Invalid Input:\", user)\n",
    "\n",
    "# Filters a list of all instances before we create new ones\n",
    "old_instances = ec2.instances.filter(\n",
    "    Filters=[{'Name': 'instance-state-name', \n",
    "              'Values': ['running', 'stopped',\n",
    "                        'pending','shutting-down'\n",
    "                         ,'terminated','stopping']\n",
    "             }])\n",
    "\n",
    "# Stores ID of old instances and then stops all instances\n",
    "print(\"Stopping:\")\n",
    "stopIds = []\n",
    "for instance in old_instances:\n",
    "    instance.stop(instance.id)\n",
    "    stopIds.append(instance.id)\n",
    "print(stopIds)    "
   ]
  },
  {
   "cell_type": "markdown",
   "metadata": {},
   "source": [
    "### Creating new instances ###\n",
    "\n",
    "Now that the above instances are stopped, we want to create the number of instances that we want to use. AWS by default only allows you to run 20 instances in reserve, with a more limited number on On-Demand time. This notebook is set to the 20 instance reserved limit. \n",
    "\n",
    "You can request more instance allocations from a link on this page: https://aws.amazon.com/ec2/faqs/#How_many_instances_can_I_run_in_Amazon_EC2\n",
    "\n",
    "Then change the 20 on line 6 to the maximum number of instances you can use.\n",
    "\n",
    "Input the number of instances you want to use below:"
   ]
  },
  {
   "cell_type": "code",
   "execution_count": null,
   "metadata": {},
   "outputs": [],
   "source": [
    "answer = True\n",
    "while answer:\n",
    "    number_of_instances = abs(int(input(\"Number of instances to use: \")))\n",
    "    if (number_of_instances <= 0):\n",
    "        print(\"Invalid: Enter valid number\")\n",
    "    elif (number_of_instances > 20):\n",
    "        print(\"Invalid: Cannot create more than 20 Instances\")\n",
    "    else:\n",
    "        answer = False\n",
    "        \n",
    "print(number_of_instances, \"EC2 instances will be created.\")\n",
    "number_of_instances"
   ]
  },
  {
   "cell_type": "markdown",
   "metadata": {},
   "source": [
    "We will now create a key pair that will use to SSH into our servers. We will share the same key with every server for convenience."
   ]
  },
  {
   "cell_type": "code",
   "execution_count": null,
   "metadata": {},
   "outputs": [],
   "source": [
    "# Creating key pair for Eclipse Megamovie usages\n",
    "keyname = 'EMkey'\n",
    "try:\n",
    "    ec2.create_key_pair(KeyName=keyname)\n",
    "except:\n",
    "    print(\"Key already created or invalid.\")\n",
    "keyname"
   ]
  },
  {
   "cell_type": "markdown",
   "metadata": {},
   "source": [
    "We will create a list of names for our new EC2 Instances"
   ]
  },
  {
   "cell_type": "code",
   "execution_count": null,
   "metadata": {},
   "outputs": [],
   "source": [
    "base = \"ECMEGA-SERVER-\"\n",
    "namelist = []\n",
    "for name in range(number_of_instances):\n",
    "    newname = base + str(name+1)\n",
    "    namelist.append(newname)\n",
    "namelist"
   ]
  },
  {
   "cell_type": "markdown",
   "metadata": {},
   "source": [
    "We now want to find and get an AMI (Amazon Machine Image) that is an image of a server that is already set up to run the software that we want. There will be a public image for a MegaMovie configured server on AWS. We will find it by filtering AMI images by our owner id:"
   ]
  },
  {
   "cell_type": "code",
   "execution_count": null,
   "metadata": {},
   "outputs": [],
   "source": [
    "megaImage = ec2.images.filter(Filters=[{'Name':'owner-id', 'Values':['346926079389']}])\n",
    "print(\"Images avaliable from Eclipse MegaMovie AWS:\")\n",
    "count = 1\n",
    "avaliableImages = []\n",
    "for images in megaImage:\n",
    "    print(str(count)+\".\",images.name, images.id, images.architecture)\n",
    "    count += 1\n",
    "    avaliableImages.append(images)\n",
    "avaliableImages"
   ]
  },
  {
   "cell_type": "markdown",
   "metadata": {},
   "source": [
    "Type the number printed above of the image of the server that you want to create the instances with below:"
   ]
  },
  {
   "cell_type": "code",
   "execution_count": null,
   "metadata": {},
   "outputs": [],
   "source": [
    "status = True \n",
    "length = len(avaliableImages)\n",
    "while status:\n",
    "    chooseImage = int(input(\"Enter number corresponding to image above: \"))\n",
    "    if chooseImage < 1: \n",
    "        print(\"Invalid number, enter a valid number\")\n",
    "    elif chooseImage > length:\n",
    "        print(\"Invalid number, enter a valid number\")\n",
    "    else:\n",
    "        print(\"Using image:\", avaliableImages[chooseImage-1])\n",
    "        status = False\n",
    "usingImage = avaliableImages[chooseImage-1]\n",
    "usingImage.name"
   ]
  },
  {
   "cell_type": "markdown",
   "metadata": {},
   "source": [
    "Finally, we want to choose a security group that we will assign to the servers. The security group defines who can access the server and how they can access it. There is a MegaMovie group avaliable that allows you to login and access the notebooks that are running on individual servers. We will now list the avaliable security groups below:"
   ]
  },
  {
   "cell_type": "code",
   "execution_count": null,
   "metadata": {},
   "outputs": [],
   "source": [
    "secureGroups = ec2.security_groups.all()\n",
    "print(\"Avaliable Security Groups:\")\n",
    "val = 0\n",
    "avaliableGroups = []\n",
    "for groups in secureGroups:\n",
    "    val += 1\n",
    "    print(str(val) +\".\",groups.description, groups.id)\n",
    "    avaliableGroups.append(groups)\n",
    "avaliableGroups"
   ]
  },
  {
   "cell_type": "markdown",
   "metadata": {},
   "source": [
    "Now enter a number to select the security group you would like to use:"
   ]
  },
  {
   "cell_type": "code",
   "execution_count": null,
   "metadata": {},
   "outputs": [],
   "source": [
    "status = True \n",
    "length = len(avaliableGroups)\n",
    "while status:\n",
    "    chooseGroup = int(input(\"Enter number corresponding to group above: \"))\n",
    "    if chooseGroup < 1: \n",
    "        print(\"Invalid number, enter a valid number\")\n",
    "    elif chooseGroup > length:\n",
    "        print(\"Invalid number, enter a valid number\")\n",
    "    else:\n",
    "        print(\"Using image:\", avaliableGroups[chooseGroup-1])\n",
    "        status = False\n",
    "usingGroup = avaliableGroups[chooseGroup-1]\n",
    "usingGroup.description"
   ]
  },
  {
   "cell_type": "markdown",
   "metadata": {},
   "source": [
    "We now have all the information we need to create the instances for our run, here are the settings that you chose to create the instances with:"
   ]
  },
  {
   "cell_type": "code",
   "execution_count": null,
   "metadata": {},
   "outputs": [],
   "source": [
    "print(\"- Eclipse Processing Server Information -\\n\")\n",
    "print(\"Number of Instances:\", number_of_instances)\n",
    "print(\"SSH Keyname:\", keyname)\n",
    "print(\"Security group:\", usingGroup.id)\n",
    "print(\"AMI\", usingImage.id)\n",
    "print(\"\\nServer Names:\")\n",
    "for name in namelist:\n",
    "    print(\"\\t\"+str(name))"
   ]
  },
  {
   "cell_type": "markdown",
   "metadata": {},
   "source": [
    "#### Confirm below that you would like to create the instances above with the given parameters ##"
   ]
  },
  {
   "cell_type": "code",
   "execution_count": null,
   "metadata": {},
   "outputs": [],
   "source": [
    "leave = True\n",
    "while leave:\n",
    "    confirm = input(\"Confirm instance creation([Y]/n): \")\n",
    "    if confirm == \"Y\":\n",
    "        leave = False\n",
    "    elif confirm == \"n\" or confirm == \"N\":\n",
    "        print(\"Exiting program\")\n",
    "        sys.exit()\n",
    "    else:\n",
    "        print(\"Bad input\")\n",
    "\n",
    "# Creating the instances!\n",
    "server_start = time.time()\n",
    "created_instances = []\n",
    "\n",
    "for i in range(number_of_instances):\n",
    "    server_instance = ec2.create_instances(ImageId=usingImage.id, \n",
    "                                            MinCount=1,\n",
    "                                            MaxCount=1, \n",
    "                                            Placement={'AvailabilityZone': 'us-east-2b',}, \n",
    "                                            InstanceType='t2.micro', \n",
    "                                            SecurityGroupIds=[usingGroup.id], \n",
    "                                            TagSpecifications=[{'ResourceType':'instance',\n",
    "                                                                'Tags': [{'Key': 'Name',\n",
    "                                                                          'Value': namelist[i]}\n",
    "                                                                         ,]},])\n",
    "    created_instances.append(server_instance)\n",
    "created_instances"
   ]
  },
  {
   "cell_type": "markdown",
   "metadata": {},
   "source": [
    "### Uploading software and datasets to the new instances\n",
    "\n",
    "Since we now have our servers up and running, we need to transfer our scripts and data so we can begin our processing tasks.\n",
    "\n",
    "There needs to be a file in your current directory that is called \"Software\" that the program can copy from. In this file you will put the script and its supporting files that you want to run on the server."
   ]
  },
  {
   "cell_type": "code",
   "execution_count": 12,
   "metadata": {},
   "outputs": [
    {
     "name": "stdout",
     "output_type": "stream",
     "text": [
      "Using operating system: Linux\n",
      "Software directory at: /home/admin/MegaMovie/aws-deployment/eclipse-deployment-system/Software\n",
      "-------------------------------------\n",
      "ServerTesters.py\n",
      "SingleProcessTest.py\n",
      "-------------------------------------\n",
      "Files in software: 2\n"
     ]
    }
   ],
   "source": [
    "directory = os.getcwd()\n",
    "exists = False\n",
    "\n",
    "operating = platform.system()\n",
    "print(\"Using operating system:\", operating)\n",
    "\n",
    "for file in os.listdir(directory):\n",
    "    if file == \"Software\" and operating == \"Windows\":\n",
    "        exists = True\n",
    "        softDir = str(directory) + \"\\\\\" + \"Software\"\n",
    "    elif file == \"Software\" and operating == \"Linux\":\n",
    "        exists = True\n",
    "        softDir = str(directory) + \"/\" + \"Software\"\n",
    "if exists:\n",
    "    print(\"Software directory at:\", softDir)\n",
    "    filesInSoft  = []\n",
    "    print(\"-------------------------------------\")\n",
    "    for software in os.listdir(softDir):\n",
    "        filesInSoft.append(software)\n",
    "        print(software)\n",
    "    print(\"-------------------------------------\\n\"\n",
    "          +\"Files in software:\", len(filesInSoft))\n",
    "else:\n",
    "    print(\"Software directory does not exist\")\n",
    "    sys.exit()"
   ]
  },
  {
   "cell_type": "code",
   "execution_count": null,
   "metadata": {},
   "outputs": [],
   "source": []
  },
  {
   "cell_type": "code",
   "execution_count": null,
   "metadata": {},
   "outputs": [],
   "source": []
  }
 ],
 "metadata": {
  "kernelspec": {
   "display_name": "Python 3",
   "language": "python",
   "name": "python3"
  },
  "language_info": {
   "codemirror_mode": {
    "name": "ipython",
    "version": 3
   },
   "file_extension": ".py",
   "mimetype": "text/x-python",
   "name": "python",
   "nbconvert_exporter": "python",
   "pygments_lexer": "ipython3",
   "version": "3.7.0"
  }
 },
 "nbformat": 4,
 "nbformat_minor": 2
}
