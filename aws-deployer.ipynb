{
 "cells": [
  {
   "cell_type": "markdown",
   "metadata": {},
   "source": [
    "## Notebook For Eclipse Software Deployment ##\n",
    "<i>Written by David Story </i>\n",
    "\n",
    "___\n",
    "### Description\n",
    "This notebook was written to be an easy-to-use plateform for deploying and implementing software to AWS cloud computing services and creating datasets for the Eclipse Megamovie project, as well as related computationally heavy research projects.\n",
    "\n",
    "This notebook will automate a number of tasks for preparing your AWS EC2 instances and deploying software to those instances. \n",
    "\n",
    "This notebook will:\n",
    "\n",
    "- Create a specified amount of instances\n",
    "- Send datasets to those instances\n",
    "- Send processing jobs and parameters to instances\n",
    "- Run jobs\n",
    "- Monitor jobs\n",
    "- Retrieve and store results\n",
    "___\n",
    "### Information on Provided Files ###\n",
    "This repository contains the following folders:\n",
    "\n",
    "   - examples\n",
    "   - keys\n",
    "   - documentation\n",
    "   - images\n",
    "   - movies\n",
    "   - logs\n",
    "   - figures\n",
    "   - results\n",
    "\n",
    "___\n",
    "#### examples: ####\n",
    "This folder provides example files that will allow you to understand how files are being fed to this notebook, and how they are formated, to help you understand how to generate your files to allow this notebook to run smoothly.\n",
    "\n",
    "#### keys: ####\n",
    "This folder should hold your ssh or .pem keys that you generated for your EC2 instance\n",
    "\n",
    "#### documentation: ####\n",
    "This should should hold the .csv that describes your EC2 instance names and attributes.\n",
    "\n",
    "#### images: ####\n",
    "This should hold any images generated.\n",
    "\n",
    "#### movies: ####\n",
    "This folder should hold any movies generated.\n",
    "\n",
    "#### servers: ####\n",
    "This folder should hold any logs generated relating to server performance, states, and program performance and states.\n",
    "\n",
    "#### figures: ####\n",
    "This folder should hold any figures generated.\n",
    "\n",
    "#### results: ####\n",
    "This folder should hold any results generated.\n",
    "\n",
    "___\n",
    "### Dependencies\n",
    "This notebook requires the following dependenices\n",
    "\n",
    "   - boto3\n",
    "   - botocore\n",
    "   - jmespath\n"
   ]
  },
  {
   "cell_type": "markdown",
   "metadata": {},
   "source": [
    "___\n",
    "### Setting up AWS Config\n",
    "\n",
    "We will be using the Boto3 API to interface Python with AWS, before we can do that we need to install the AWS CLI (Command Line Interface) from here:\n",
    "\n",
    "https://aws.amazon.com/cli/\n",
    "\n",
    "After you have installed the CLI, you must configure your AWS credentials on the machine that you will run this code on, the configuration process can be found here:\n",
    "\n",
    "https://boto3.amazonaws.com/v1/documentation/api/latest/guide/quickstart.html#configuration\n",
    "\n",
    "Essentially what you will have to do is in a terminal type:\n",
    "    \n",
    "    aws config\n",
    "\n",
    "After which you will be asked for security credentials, these credentials will be avaliable on your AWS account under \n",
    "\"My Security Credentials\"\n",
    "\n",
    "After this is done, you will be asked an avaliability zone, for now use: \n",
    "\n",
    "    us-east-2\n",
    "\n",
    "Finally, for your output use: \n",
    "    \n",
    "    json\n",
    "\n",
    "<b>Ensure that in the configure step you set your region to the region that your EC2 and S3 instances and buckets are at, else you will not be able to access them with the API</b> "
   ]
  },
  {
   "cell_type": "markdown",
   "metadata": {},
   "source": [
    "___\n",
    "\n",
    "### Viewing your current EC2 Instances###\n",
    "\n",
    "Using the Boto3 library, we are able to acquire information about our instances that are in AWS using this Python API, below we are importing the libraries we will need:"
   ]
  },
  {
   "cell_type": "code",
   "execution_count": 1,
   "metadata": {},
   "outputs": [
    {
     "name": "stdout",
     "output_type": "stream",
     "text": [
      "C:\\Users\\David\\Documents\\GitHub\\eclipse-deployment-system\n",
      "C:\\Users\\David\\Documents\\GitHub\\eclipse-deployment-system\\support\n",
      "C:\\Users\\David\\Documents\\GitHub\\eclipse-deployment-system\\log\n",
      "C:\\Users\\David\\Documents\\GitHub\\eclipse-deployment-system\\shell\n",
      "C:\\Users\\David\\Documents\\GitHub\\eclipse-deployment-system\\instances\n"
     ]
    }
   ],
   "source": [
    "import sys\n",
    "import boto3\n",
    "import botocore\n",
    "from botocore.exceptions import ClientError\n",
    "import OpenSSL\n",
    "from OpenSSL import crypto\n",
    "\n",
    "import time\n",
    "import os\n",
    "import platform\n",
    "\n",
    "# Make sure to change this to support = os.getcwd() + \"\\\\support\" \n",
    "operating = platform.system()\n",
    "this_cwd = str(os.getcwd())\n",
    "if operating == \"Windows\":\n",
    "    support_path = this_cwd + \"\\\\support\" \n",
    "    log_path = this_cwd + \"\\\\log\"\n",
    "    instance_path = this_cwd + \"\\\\instances\"\n",
    "    shell_path = this_cwd + \"\\\\shell\"\n",
    "    sys.path.append(support_path)\n",
    "    \n",
    "elif operating == \"Linux\":\n",
    "    support_path = this_cwd + \"/support/\"\n",
    "    log_path = this_cwd + \"/log/\"\n",
    "    instance_path = this_cwd + \"/instances/\"\n",
    "    shell_path = this_cwd + \"/shell/\"\n",
    "    sys.path.append(support_path)\n",
    "    \n",
    "else:\n",
    "    support_path = this_cwd + \"/support/\"\n",
    "    log_path = this_cwd + \"/log/\"\n",
    "    instance_path = this_cwd + \"/instances/\"\n",
    "    shell_path = this_cwd + \"/shell/\"\n",
    "    sys.path.append(support_path)\n",
    "    \n",
    "# Print the following paths based on the operating system    \n",
    "print(this_cwd)\n",
    "print(support_path)\n",
    "print(log_path)\n",
    "print(shell_path)\n",
    "print(instance_path)\n",
    "\n",
    "import ecmegaresources\n",
    "import ecmegacopy"
   ]
  },
  {
   "cell_type": "markdown",
   "metadata": {},
   "source": [
    "Now that the libraries are acquired, we will use the ec2 resource to see what instances we currently have on our console:"
   ]
  },
  {
   "cell_type": "code",
   "execution_count": 2,
   "metadata": {},
   "outputs": [
    {
     "name": "stdout",
     "output_type": "stream",
     "text": [
      "EC Resource: ec2.ServiceResource()\n",
      "EC Client: <botocore.client.EC2 object at 0x0000023AB1DE18D0>\n",
      "S3 Connection: s3.ServiceResource() \n",
      "\n",
      "EC2 Instances Running:\n",
      "\n",
      "EC2 Instances Stopped:\n",
      "i-05b22310c0453c524 t2.2xlarge\n",
      "i-02bad93e885f45179 t2.2xlarge\n",
      "i-049288d0e5ba4c4fc t2.2xlarge\n",
      "\n",
      "EC2 Instances Other:\n",
      "\n",
      "Done Searching\n"
     ]
    }
   ],
   "source": [
    "# creating ec2 resource, ec2 client, and s3 connection\n",
    "try:\n",
    "    ec2 = boto3.resource('ec2')\n",
    "    client = boto3.client('ec2')\n",
    "    s3 = boto3.resource('s3')\n",
    "except:\n",
    "    print(\"Error creating clients, check AWS configuration in AWS CLI\")\n",
    "    sys.exit()\n",
    "    \n",
    "# printing instances created \n",
    "print(\"EC Resource:\", ec2)\n",
    "print(\"EC Client:\", client)\n",
    "print(\"S3 Connection:\", s3, \"\\n\")\n",
    "\n",
    "# printing what running instances we have up\n",
    "print(\"EC2 Instances Running:\")\n",
    "\n",
    "# filtering for instances by name and if running\n",
    "running_instances = ec2.instances.filter(\n",
    "    Filters=[{'Name': 'instance-state-name', 'Values': ['running']}])\n",
    "\n",
    "# printing the names of running instances and their machine type\n",
    "for instance in running_instances:\n",
    "    print(instance.id, instance.instance_type)\n",
    "\n",
    "# printing what stopped instances we have\n",
    "print(\"\\nEC2 Instances Stopped:\")\n",
    "\n",
    "# filtering for instances by name and if stopped\n",
    "stopped_instances = ec2.instances.filter(\n",
    "    Filters=[{'Name': 'instance-state-name', 'Values': ['stopped']}])\n",
    "\n",
    "# printing the names of running instances and their machine type\n",
    "for instance in stopped_instances:\n",
    "    print(instance.id, instance.instance_type)\n",
    "\n",
    "# for other cases other than running or stopped\n",
    "other_instances = ec2.instances.filter(\n",
    "    Filters=[{'Name': 'instance-state-name', 'Values': ['pending', 'shutting-down',\n",
    "                                                    'terminated','stopping']}])\n",
    "\n",
    "print(\"\\nEC2 Instances Other:\")\n",
    "for instance in other_instances:\n",
    "    print(instance.id, instance.instance_type)\n",
    "    \n",
    "print(\"\\nDone Searching\")"
   ]
  },
  {
   "cell_type": "markdown",
   "metadata": {},
   "source": [
    "### Setting up the instances needed ###\n",
    "\n",
    "We will now be preparing the instances that we want to process the images with.\n",
    "\n",
    "<b> Warning: in the following process we will be stopping all of the current instances and creating a defined amount of instances that we will use for our image processing </b>\n",
    "\n",
    "You will be asked to confirm that you want to begin the process of pausing your instances and starting the server process."
   ]
  },
  {
   "cell_type": "code",
   "execution_count": 3,
   "metadata": {},
   "outputs": [
    {
     "name": "stdout",
     "output_type": "stream",
     "text": [
      "Authorize to stop and store current instances ([Y]/n): Y\n",
      "Stopping:\n"
     ]
    },
    {
     "data": {
      "text/plain": [
       "['i-05b22310c0453c524', 'i-02bad93e885f45179', 'i-049288d0e5ba4c4fc']"
      ]
     },
     "execution_count": 3,
     "metadata": {},
     "output_type": "execute_result"
    }
   ],
   "source": [
    "# Waits for user to authorize stop of their instances\n",
    "go = False\n",
    "while(go == False):\n",
    "    user = input(\"Authorize to stop and store current instances ([Y]/n): \")\n",
    "    if (user == \"Y\"):\n",
    "        go = True\n",
    "    elif (user == 'n'):\n",
    "        print(\"Entered No: Exiting Program\")\n",
    "        sys.exit()\n",
    "    else:\n",
    "        print(\"Invalid Input:\", user)\n",
    "\n",
    "# Filters a list of all instances before we create new ones\n",
    "old_instances = ec2.instances.filter(\n",
    "    Filters=[{'Name': 'instance-state-name', \n",
    "              'Values': ['running', 'stopped',\n",
    "                        'pending','stopping']\n",
    "             }])\n",
    "\n",
    "# Stores ID of old instances and then stops all instances\n",
    "print(\"Stopping:\")\n",
    "stopIds = []\n",
    "for instance in old_instances:\n",
    "    instance.stop(instance.id)\n",
    "    stopIds.append(instance.id)\n",
    "stopIds   "
   ]
  },
  {
   "cell_type": "markdown",
   "metadata": {},
   "source": [
    "### Creating new instances ###\n",
    "\n",
    "Now that the above instances are stopped, we want to create the number of instances that we want to use. AWS by default only allows you to run 20 instances in reserve, with a more limited number on On-Demand time. This notebook is set to the 20 instance reserved limit. \n",
    "\n",
    "You can request more instance allocations from a link on this page: https://aws.amazon.com/ec2/faqs/#How_many_instances_can_I_run_in_Amazon_EC2\n",
    "\n",
    "Then change the 20 on line 6 to the maximum number of instances you can use.\n",
    "\n",
    "Input the number of instances you want to use below:"
   ]
  },
  {
   "cell_type": "code",
   "execution_count": 4,
   "metadata": {},
   "outputs": [
    {
     "name": "stdout",
     "output_type": "stream",
     "text": [
      "Number of instances to use: 3\n",
      "3 EC2 instances will be created.\n"
     ]
    },
    {
     "data": {
      "text/plain": [
       "3"
      ]
     },
     "execution_count": 4,
     "metadata": {},
     "output_type": "execute_result"
    }
   ],
   "source": [
    "answer = True\n",
    "while answer:\n",
    "    number_of_instances = abs(int(input(\"Number of instances to use: \")))\n",
    "    if (number_of_instances <= 0):\n",
    "        print(\"Invalid: Enter valid number\")\n",
    "    elif (number_of_instances > 20):\n",
    "        print(\"Invalid: Cannot create more than 20 Instances\")\n",
    "    else:\n",
    "        answer = False\n",
    "        \n",
    "print(number_of_instances, \"EC2 instances will be created.\")\n",
    "number_of_instances"
   ]
  },
  {
   "cell_type": "markdown",
   "metadata": {},
   "source": [
    "We will now create a key pair that will use to SSH into our servers. We will share the same key with every server for convenience."
   ]
  },
  {
   "cell_type": "code",
   "execution_count": 5,
   "metadata": {},
   "outputs": [
    {
     "name": "stdout",
     "output_type": "stream",
     "text": [
      "C:\\Users\\David\\Documents\\GitHub\\eclipse-deployment-system\n",
      "Key path already exists\n",
      "Unable to create key, may already exist\n"
     ]
    },
    {
     "data": {
      "text/plain": [
       "'ecmega-master-key'"
      ]
     },
     "execution_count": 5,
     "metadata": {},
     "output_type": "execute_result"
    }
   ],
   "source": [
    "working = os.getcwd()\n",
    "print(working)\n",
    "try:\n",
    "    os.mkdir(\"keys\") \n",
    "except:\n",
    "    print(\"Key path already exists\")\n",
    "newWorking =str(working)+\"\\keys\"\n",
    "# Creating key pair for Eclipse Megamovie usages\n",
    "try:\n",
    "    keyname = 'ecmega-master-key'\n",
    "    newWorking = newWorking + \"\\\\\" + keyname\n",
    "    key = ec2.create_key_pair(KeyName=keyname)\n",
    "    newName = str(key.key_name) + \".pem\"\n",
    "    local_key = open(newWorking, 'w')\n",
    "    local_key.write(key.key_material)\n",
    "    local_key.close()\n",
    "    os.chmod(newWorking, 400)\n",
    "    print(\"Key created and saved on AWS and locally at:\" ,)\n",
    "except:\n",
    "    print(\"Unable to create key, may already exist\")\n",
    "keyname"
   ]
  },
  {
   "cell_type": "markdown",
   "metadata": {},
   "source": [
    "We will create a list of names for our new EC2 Instances"
   ]
  },
  {
   "cell_type": "code",
   "execution_count": 6,
   "metadata": {},
   "outputs": [
    {
     "data": {
      "text/plain": [
       "['ECMEGA-SERVER-1', 'ECMEGA-SERVER-2', 'ECMEGA-SERVER-3']"
      ]
     },
     "execution_count": 6,
     "metadata": {},
     "output_type": "execute_result"
    }
   ],
   "source": [
    "base = \"ECMEGA-SERVER-\"\n",
    "namelist = []\n",
    "for name in range(number_of_instances):\n",
    "    newname = base + str(name+1)\n",
    "    namelist.append(newname)\n",
    "namelist"
   ]
  },
  {
   "cell_type": "markdown",
   "metadata": {},
   "source": [
    "We now want to find and get an AMI (Amazon Machine Image) that is an image of a server that is already set up to run the software that we want. There will be a public image for a MegaMovie configured server on AWS. We will find it by filtering AMI images by our owner id:"
   ]
  },
  {
   "cell_type": "code",
   "execution_count": 7,
   "metadata": {},
   "outputs": [
    {
     "name": "stdout",
     "output_type": "stream",
     "text": [
      "Images avaliable from Eclipse MegaMovie AWS:\n",
      "1. Master-Image ami-027369ffdea1405c6 x86_64\n",
      "2. MegaMovie-Master-Image-V2 ami-0c2d62633f5578b33 x86_64\n",
      "3. Master-Image ami-0db7659b19b8677f5 x86_64\n"
     ]
    },
    {
     "data": {
      "text/plain": [
       "[ec2.Image(id='ami-027369ffdea1405c6'),\n",
       " ec2.Image(id='ami-0c2d62633f5578b33'),\n",
       " ec2.Image(id='ami-0db7659b19b8677f5')]"
      ]
     },
     "execution_count": 7,
     "metadata": {},
     "output_type": "execute_result"
    }
   ],
   "source": [
    "megaImage = ec2.images.filter(Filters=[{'Name':'owner-id', 'Values':['346926079389']}])\n",
    "print(\"Images avaliable from Eclipse MegaMovie AWS:\")\n",
    "count = 1\n",
    "avaliableImages = []\n",
    "for images in megaImage:\n",
    "    print(str(count)+\".\",images.name, images.id, images.architecture)\n",
    "    count += 1\n",
    "    avaliableImages.append(images)\n",
    "avaliableImages"
   ]
  },
  {
   "cell_type": "markdown",
   "metadata": {},
   "source": [
    "Type the number printed above of the image of the server that you want to create the instances with below:"
   ]
  },
  {
   "cell_type": "code",
   "execution_count": 8,
   "metadata": {},
   "outputs": [
    {
     "name": "stdout",
     "output_type": "stream",
     "text": [
      "Enter number corresponding to image above: 2\n",
      "Using image: ec2.Image(id='ami-0c2d62633f5578b33')\n"
     ]
    },
    {
     "data": {
      "text/plain": [
       "'MegaMovie-Master-Image-V2'"
      ]
     },
     "execution_count": 8,
     "metadata": {},
     "output_type": "execute_result"
    }
   ],
   "source": [
    "status = True \n",
    "length = len(avaliableImages)\n",
    "while status:\n",
    "    chooseImage = int(input(\"Enter number corresponding to image above: \"))\n",
    "    if chooseImage < 1: \n",
    "        print(\"Invalid number, enter a valid number\")\n",
    "    elif chooseImage > length:\n",
    "        print(\"Invalid number, enter a valid number\")\n",
    "    else:\n",
    "        print(\"Using image:\", avaliableImages[chooseImage-1])\n",
    "        status = False\n",
    "usingImage = avaliableImages[chooseImage-1]\n",
    "usingImage.name"
   ]
  },
  {
   "cell_type": "markdown",
   "metadata": {},
   "source": [
    "Finally, we want to choose a security group that we will assign to the servers. The security group defines who can access the server and how they can access it. There is a MegaMovie group avaliable that allows you to login and access the notebooks that are running on individual servers. We will now list the avaliable security groups below:"
   ]
  },
  {
   "cell_type": "code",
   "execution_count": 9,
   "metadata": {},
   "outputs": [
    {
     "name": "stdout",
     "output_type": "stream",
     "text": [
      "Avaliable Security Groups:\n",
      "1. Security Group For Eclipse Megamovie sg-04aad0e0fdad5d76a\n",
      "2. This security group was generated by AWS Marketplace and is based on recommended settings for Ubuntu Server 14.04 LTS (HVM) version 14.04 LTS 20180818 provided by Canonical Group Limited sg-0631d2aaba9aaa914\n",
      "3. Test security group for Jupyter access for Megamovie project sg-07dcb7d6071a2c647\n",
      "4. default VPC security group sg-ca8a2aa6\n"
     ]
    },
    {
     "data": {
      "text/plain": [
       "[ec2.SecurityGroup(id='sg-04aad0e0fdad5d76a'),\n",
       " ec2.SecurityGroup(id='sg-0631d2aaba9aaa914'),\n",
       " ec2.SecurityGroup(id='sg-07dcb7d6071a2c647'),\n",
       " ec2.SecurityGroup(id='sg-ca8a2aa6')]"
      ]
     },
     "execution_count": 9,
     "metadata": {},
     "output_type": "execute_result"
    }
   ],
   "source": [
    "secureGroups = ec2.security_groups.all()\n",
    "print(\"Avaliable Security Groups:\")\n",
    "val = 0\n",
    "avaliableGroups = []\n",
    "for groups in secureGroups:\n",
    "    val += 1\n",
    "    print(str(val) +\".\",groups.description, groups.id)\n",
    "    avaliableGroups.append(groups)\n",
    "avaliableGroups"
   ]
  },
  {
   "cell_type": "markdown",
   "metadata": {},
   "source": [
    "Now enter a number to select the security group you would like to use:"
   ]
  },
  {
   "cell_type": "code",
   "execution_count": 10,
   "metadata": {},
   "outputs": [
    {
     "name": "stdout",
     "output_type": "stream",
     "text": [
      "Enter number corresponding to group above: 1\n",
      "Using image: ec2.SecurityGroup(id='sg-04aad0e0fdad5d76a')\n"
     ]
    },
    {
     "data": {
      "text/plain": [
       "'Security Group For Eclipse Megamovie'"
      ]
     },
     "execution_count": 10,
     "metadata": {},
     "output_type": "execute_result"
    }
   ],
   "source": [
    "status = True \n",
    "length = len(avaliableGroups)\n",
    "while status:\n",
    "    chooseGroup = int(input(\"Enter number corresponding to group above: \"))\n",
    "    if chooseGroup < 1: \n",
    "        print(\"Invalid number, enter a valid number\")\n",
    "    elif chooseGroup > length:\n",
    "        print(\"Invalid number, enter a valid number\")\n",
    "    else:\n",
    "        print(\"Using image:\", avaliableGroups[chooseGroup-1])\n",
    "        status = False\n",
    "usingGroup = avaliableGroups[chooseGroup-1]\n",
    "usingGroup.description"
   ]
  },
  {
   "cell_type": "markdown",
   "metadata": {},
   "source": [
    "We now have all the information we need to create the instances for our run, here are the settings that you chose to create the instances with:"
   ]
  },
  {
   "cell_type": "code",
   "execution_count": 11,
   "metadata": {},
   "outputs": [
    {
     "name": "stdout",
     "output_type": "stream",
     "text": [
      "- Eclipse Processing Server Information -\n",
      "\n",
      "Number of Instances: 3\n",
      "SSH key name: ecmega-master-key\n",
      "Security group: sg-04aad0e0fdad5d76a\n",
      "AMI ami-0c2d62633f5578b33\n",
      "\n",
      "Server Names:\n",
      "\tECMEGA-SERVER-1\n",
      "\tECMEGA-SERVER-2\n",
      "\tECMEGA-SERVER-3\n"
     ]
    }
   ],
   "source": [
    "print(\"- Eclipse Processing Server Information -\\n\")\n",
    "print(\"Number of Instances:\", number_of_instances)\n",
    "print(\"SSH key name:\", keyname)\n",
    "print(\"Security group:\", usingGroup.id)\n",
    "print(\"AMI\", usingImage.id)\n",
    "print(\"\\nServer Names:\")\n",
    "for name in namelist:\n",
    "    print(\"\\t\"+str(name))"
   ]
  },
  {
   "cell_type": "markdown",
   "metadata": {},
   "source": [
    "#### Confirm below that you would like to create the instances above with the given parameters ##"
   ]
  },
  {
   "cell_type": "code",
   "execution_count": 12,
   "metadata": {},
   "outputs": [
    {
     "name": "stdout",
     "output_type": "stream",
     "text": [
      "Confirm instance creation([Y]/n): Y\n"
     ]
    },
    {
     "data": {
      "text/plain": [
       "[ec2.Instance(id='i-05ead5281b00c917d'),\n",
       " ec2.Instance(id='i-0c7d5180ddffbdce7'),\n",
       " ec2.Instance(id='i-0eac6b575bc6d1ca1')]"
      ]
     },
     "execution_count": 12,
     "metadata": {},
     "output_type": "execute_result"
    }
   ],
   "source": [
    "leave = True\n",
    "while leave:\n",
    "    confirm = input(\"Confirm instance creation([Y]/n): \")\n",
    "    if confirm == \"Y\":\n",
    "        leave = False\n",
    "    elif confirm == \"n\" or confirm == \"N\":\n",
    "        print(\"Exiting program\")\n",
    "        sys.exit()\n",
    "    else:\n",
    "        print(\"Bad input\")\n",
    "\n",
    "# Creating the instances!\n",
    "server_start = time.time()\n",
    "new_instances = []\n",
    "\n",
    "for i in range(number_of_instances):\n",
    "    server_instance = ec2.create_instances(ImageId=usingImage.id,\n",
    "                                            KeyName=keyname,\n",
    "                                            MinCount=1,\n",
    "                                            MaxCount=1, \n",
    "                                            Placement={'AvailabilityZone': 'us-east-2b',}, \n",
    "                                            InstanceType='t2.2xlarge', \n",
    "                                            SecurityGroupIds=[usingGroup.id], \n",
    "                                            TagSpecifications=[{'ResourceType':'instance',\n",
    "                                                                'Tags': [{'Key': 'Name',\n",
    "                                                                          'Value': namelist[i]}\n",
    "                                                                         ,]},])\n",
    "    new_instances.append(server_instance)\n",
    "\n",
    "created_instances = []\n",
    "for instances in new_instances:\n",
    "    for element in instances:\n",
    "        created_instances.append(element)\n",
    "        \n",
    "created_instances"
   ]
  },
  {
   "cell_type": "markdown",
   "metadata": {},
   "source": [
    "### Uploading software and datasets to the new instances\n",
    "\n",
    "Since we now have our servers up and running, we need to transfer our scripts and data so we can begin our processing tasks.\n",
    "\n",
    "There is a public Eclipse Megamovie S3 bucket that will contain software for different processing tasks. You can choose to use the software that is there or you can choose to use software from the local machine.\n",
    "\n",
    "If you choose to use use S3 you will:\n",
    "\n",
    "- Get a list of all the software in the S3 bucket\n",
    "- Choose which script you want to run\n",
    "- Define a timeout scenario\n",
    "- Authorize that run\n",
    "    \n",
    "If you choose to use software on local machine:\n",
    "\n",
    "- All software in local \"Software folder\" will be copied to each instance\n",
    "- You will define a \"main script\" eg. \"Servertester.py\", that will be run\n",
    "- Define a timeout scenario\n",
    "- Authorize the run\n",
    "    \n",
    "More information will follow on what will happen when the scripts run and output, for now we will begin copying our information.\n",
    "\n",
    "#### For now, choose if you will use software on S3 or software from your local machine:"
   ]
  },
  {
   "cell_type": "markdown",
   "metadata": {},
   "source": [
    "Below is listed software from both S3 and local machine for choosing the main script that you want to deploy to the instances. Software on S3 is from the public bucket \"software\", and local machine output is from current working directory \"Software\" folder, if it exists."
   ]
  },
  {
   "cell_type": "code",
   "execution_count": 13,
   "metadata": {},
   "outputs": [
    {
     "name": "stdout",
     "output_type": "stream",
     "text": [
      "**** LOCAL MACHINE ****\n",
      "Operating system: Windows\n",
      "Software directory at: C:\\Users\\David\\Documents\\GitHub\\eclipse-deployment-system\\software\n",
      "-------------------------------------\n",
      "1. ServerTesters.py\n",
      "2. SingleProcessTest.py\n",
      "-------------------------------------\n",
      "Files in software: 2\n",
      "\n",
      "\n",
      "**** S3 ECLIPSE BUCKET ****\n",
      "Bucket Name: ecmega-software\n",
      "Software folder: software/\n",
      "Number of files in folder: 3\n",
      "Files in software/:\n",
      "-------------------------------------\n",
      "1. ServerTesters.py\n",
      "2. SingleProcessTest.py\n",
      "-------------------------------------\n"
     ]
    }
   ],
   "source": [
    "directory = os.getcwd()\n",
    "exists = False\n",
    "\n",
    "print(\"**** LOCAL MACHINE ****\\nOperating system:\", operating)\n",
    "\n",
    "for file in os.listdir(directory):\n",
    "    if file == \"software\" and operating == \"Windows\":\n",
    "        exists = True\n",
    "        softDir = str(directory) + \"\\\\\" + \"software\"\n",
    "    elif file == \"software\" and operating == \"Linux\":\n",
    "        exists = True\n",
    "        softDir = str(directory) + \"/\" + \"software\"\n",
    "if exists:\n",
    "    print(\"Software directory at:\", softDir)\n",
    "    filesInSoft  = []\n",
    "    print(\"-------------------------------------\")\n",
    "    \n",
    "    localIt = 1\n",
    "    for software in os.listdir(softDir):\n",
    "        filesInSoft.append(software)\n",
    "        print(str(localIt)+\".\", software)\n",
    "        localIt += 1\n",
    "    \n",
    "    print(\"-------------------------------------\\n\"\n",
    "          + \"Files in software:\", len(filesInSoft))\n",
    "else:\n",
    "    print(\"Software directory does not exist\")\n",
    "\n",
    "avaliBuckets = s3.buckets.all()\n",
    "ecExists = False\n",
    "for bucket in avaliBuckets:\n",
    "    if str(bucket.name) == 'ecmega-software':\n",
    "        ecExists = True\n",
    "        ecBucket = bucket\n",
    "\n",
    "softExists = False\n",
    "bucketObj = ecBucket.objects.all()\n",
    "softList = []\n",
    "softNames = []\n",
    "for objects in bucketObj:\n",
    "    if str(objects.key) == 'software/':\n",
    "        softExists = True\n",
    "        softObj = objects\n",
    "    \n",
    "    searchObj = str(objects.key)\n",
    "    if searchObj[0:9] == 'software/':\n",
    "        softList.append(objects)\n",
    "\n",
    "print(\"\\n\\n**** S3 ECLIPSE BUCKET ****\")\n",
    "if ecExists and softExists:\n",
    "    print(\"Bucket Name:\", ecBucket.name)\n",
    "    print(\"Software folder:\", softObj.key)\n",
    "    print(\"Number of files in folder:\", len(softList))\n",
    "    print(\"Files in\", str(softObj.key) + \":\")\n",
    "    \n",
    "    if len(softList) > 0:\n",
    "        softIt = 1\n",
    "        print(\"-------------------------------------\")\n",
    "        for item in softList:\n",
    "            if len(str(item.key)) > 9:\n",
    "                print(str(softIt) + \". \" +str(item.key)[9:])\n",
    "                softNames.append(str(item.key)[9:])\n",
    "                softIt += 1\n",
    "        print(\"-------------------------------------\")\n",
    "\n",
    "elif not ecExists:\n",
    "    print(\"Eclipse Bucket does not exists\")\n",
    "    sys.exit()\n",
    "    \n",
    "elif not softExists:\n",
    "    print(\"Software folder does not exist\")\n",
    "    sys.exit()\n",
    "else:\n",
    "    print(\"Eclipse MegaMovie Bucket and software folder is not avaliable\")\n",
    "    sys.exit()"
   ]
  },
  {
   "cell_type": "markdown",
   "metadata": {},
   "source": [
    "Select whether to select code from S3 or the local machine"
   ]
  },
  {
   "cell_type": "code",
   "execution_count": 14,
   "metadata": {},
   "outputs": [
    {
     "name": "stdout",
     "output_type": "stream",
     "text": [
      "Choose where to pull software from (s3/local): local\n",
      "Using local software\n"
     ]
    }
   ],
   "source": [
    "go = False\n",
    "while not go:\n",
    "    choice = input(\"Choose where to pull software from (s3/local): \")\n",
    "    if choice == \"s3\":\n",
    "        print(\"Using S3 software\")\n",
    "        go = True\n",
    "    elif choice == \"local\":\n",
    "        print(\"Using local software\")\n",
    "        go = True\n",
    "    else:\n",
    "        print(\"Invalid choice\")"
   ]
  },
  {
   "cell_type": "markdown",
   "metadata": {},
   "source": [
    "Now you will select the main program you would like to run, any other files in the folders will be copied over as well, so you can include dependent files and scripts in these folders."
   ]
  },
  {
   "cell_type": "code",
   "execution_count": 16,
   "metadata": {},
   "outputs": [
    {
     "name": "stdout",
     "output_type": "stream",
     "text": [
      "Choose main program from local folder: ServerTesters.py\n",
      "\n",
      "Using main program: ServerTesters.py\n"
     ]
    }
   ],
   "source": [
    "progChoice = False\n",
    "if choice == \"s3\":\n",
    "    while not progChoice:\n",
    "        mainProg = input(\"Choose main program from S3 folder: \")\n",
    "        for file in softNames:\n",
    "            if str(mainProg) == str(file):\n",
    "                progChoice = True\n",
    "        if not progChoice:\n",
    "            print(\"Invalid file name, enter valid file name.\")\n",
    "    print(\"\\nUsing main program:\", mainProg)\n",
    "        \n",
    "elif choice == \"local\":\n",
    "    while not progChoice:\n",
    "        mainProg = input(\"Choose main program from local folder: \")\n",
    "        for file in filesInSoft:\n",
    "            if str(mainProg) == str(file):\n",
    "                progChoice = True\n",
    "        if not progChoice:\n",
    "            print(\"Invalid file name, enter valid file name.\")\n",
    "    print(\"\\nUsing main program:\", mainProg)"
   ]
  },
  {
   "cell_type": "markdown",
   "metadata": {},
   "source": [
    "Now that we have selected the program from our specified location, the next section will create log files to the local log folder, make .csv of the instances avaliable to the instances folder, and will create shell scripts for each server in the shell folder."
   ]
  },
  {
   "cell_type": "code",
   "execution_count": 17,
   "metadata": {},
   "outputs": [
    {
     "name": "stdout",
     "output_type": "stream",
     "text": [
      "<_io.TextIOWrapper name='ecmega-server-log-2019-01-15.txt' mode='w' encoding='cp1252'>\n"
     ]
    },
    {
     "data": {
      "text/plain": [
       "[<_io.TextIOWrapper name='ECMEGA-Program-Run-1.sh' mode='w' encoding='cp1252'>,\n",
       " <_io.TextIOWrapper name='ECMEGA-Program-Run-2.sh' mode='w' encoding='cp1252'>,\n",
       " <_io.TextIOWrapper name='ECMEGA-Program-Run-3.sh' mode='w' encoding='cp1252'>]"
      ]
     },
     "execution_count": 17,
     "metadata": {},
     "output_type": "execute_result"
    }
   ],
   "source": [
    "# creates log of server information\n",
    "try:\n",
    "    os.chdir(log_path)\n",
    "    log_file = ecmegaresources.create_log(created_instances, choice, mainProg, softList)\n",
    "    os.chdir(this_cwd)\n",
    "    os.chdir(instance_path)\n",
    "    instance_file = ecmegaresources.create_instance_file(created_instances)\n",
    "    print(log_file)\n",
    "    os.chdir(this_cwd)\n",
    "\n",
    "except:\n",
    "    os.chdir(this_cwd)\n",
    "    print(\"Error creating log file\")\n",
    "    sys.quit()\n",
    "\n",
    "# creates shell script to run software on servers on reboot\n",
    "try:\n",
    "    shell_files = []\n",
    "    os.chdir(shell_path)\n",
    "    for i in range(len(created_instances)):\n",
    "        shell = ecmegaresources.create_shell(mainProg, (i+1))\n",
    "        shell_files.append(shell)\n",
    "    os.chdir(this_cwd)\n",
    "\n",
    "except:\n",
    "    os.chdir(this_cwd)\n",
    "    print(\"Error: Unable to create shell scripts.\")\n",
    "    \n",
    "shell_files"
   ]
  },
  {
   "cell_type": "markdown",
   "metadata": {},
   "source": [
    "Now we can copy all the code to the servers and start running the programs. The servers will automatically save all the outputs the ecmega-project-bucket on S3. If you specified software from local pc, this will be transfered to the instances, else the specified software from S3 will be sent to the instance."
   ]
  },
  {
   "cell_type": "code",
   "execution_count": 18,
   "metadata": {},
   "outputs": [
    {
     "ename": "TypeError",
     "evalue": "set_missing_host_key_policy() missing 1 required positional argument: 'policy'",
     "output_type": "error",
     "traceback": [
      "\u001b[1;31m---------------------------------------------------------------------------\u001b[0m",
      "\u001b[1;31mTypeError\u001b[0m                                 Traceback (most recent call last)",
      "\u001b[1;32m<ipython-input-18-e954b5de3758>\u001b[0m in \u001b[0;36m<module>\u001b[1;34m\u001b[0m\n\u001b[1;32m----> 1\u001b[1;33m \u001b[0mecmegacopy\u001b[0m\u001b[1;33m.\u001b[0m\u001b[0mcopy_files\u001b[0m\u001b[1;33m(\u001b[0m\u001b[0mcreated_instances\u001b[0m\u001b[1;33m,\u001b[0m \u001b[0mkeyname\u001b[0m\u001b[1;33m)\u001b[0m\u001b[1;33m\u001b[0m\u001b[1;33m\u001b[0m\u001b[0m\n\u001b[0m",
      "\u001b[1;32m~\\Documents\\GitHub\\eclipse-deployment-system\\support\\ecmegacopy.py\u001b[0m in \u001b[0;36mcopy_files\u001b[1;34m(created_instances, keyname)\u001b[0m\n\u001b[0;32m     61\u001b[0m     \u001b[0mshellFiles\u001b[0m\u001b[1;33m,\u001b[0m \u001b[0mkeyFiles\u001b[0m\u001b[1;33m,\u001b[0m \u001b[0msoftFiles\u001b[0m \u001b[1;33m=\u001b[0m \u001b[0mget_dir_contents\u001b[0m\u001b[1;33m(\u001b[0m\u001b[0mshell_path\u001b[0m\u001b[1;33m,\u001b[0m \u001b[0mkey_path\u001b[0m\u001b[1;33m,\u001b[0m \u001b[0msoftware_path\u001b[0m\u001b[1;33m)\u001b[0m\u001b[1;33m\u001b[0m\u001b[1;33m\u001b[0m\u001b[0m\n\u001b[0;32m     62\u001b[0m     \u001b[0mclient\u001b[0m \u001b[1;33m=\u001b[0m \u001b[0mparamiko\u001b[0m\u001b[1;33m.\u001b[0m\u001b[0mSSHClient\u001b[0m\u001b[1;33m\u001b[0m\u001b[1;33m\u001b[0m\u001b[0m\n\u001b[1;32m---> 63\u001b[1;33m     \u001b[0mclient\u001b[0m\u001b[1;33m.\u001b[0m\u001b[0mset_missing_host_key_policy\u001b[0m\u001b[1;33m(\u001b[0m\u001b[0mparamiko\u001b[0m\u001b[1;33m.\u001b[0m\u001b[0mAutoAddPolicy\u001b[0m\u001b[1;33m(\u001b[0m\u001b[1;33m)\u001b[0m\u001b[1;33m)\u001b[0m\u001b[1;33m\u001b[0m\u001b[1;33m\u001b[0m\u001b[0m\n\u001b[0m\u001b[0;32m     64\u001b[0m     \u001b[1;31m# creates server address from DNS\u001b[0m\u001b[1;33m\u001b[0m\u001b[1;33m\u001b[0m\u001b[1;33m\u001b[0m\u001b[0m\n\u001b[0;32m     65\u001b[0m     \u001b[0minstance_list\u001b[0m \u001b[1;33m=\u001b[0m \u001b[0mcreate_instance_address\u001b[0m\u001b[1;33m(\u001b[0m\u001b[0mcreated_instances\u001b[0m\u001b[1;33m)\u001b[0m\u001b[1;33m\u001b[0m\u001b[1;33m\u001b[0m\u001b[0m\n",
      "\u001b[1;31mTypeError\u001b[0m: set_missing_host_key_policy() missing 1 required positional argument: 'policy'"
     ]
    }
   ],
   "source": [
    "ecmegacopy.copy_files(created_instances, keyname)"
   ]
  },
  {
   "cell_type": "code",
   "execution_count": null,
   "metadata": {},
   "outputs": [],
   "source": []
  }
 ],
 "metadata": {
  "kernelspec": {
   "display_name": "Python 3",
   "language": "python",
   "name": "python3"
  },
  "language_info": {
   "codemirror_mode": {
    "name": "ipython",
    "version": 3
   },
   "file_extension": ".py",
   "mimetype": "text/x-python",
   "name": "python",
   "nbconvert_exporter": "python",
   "pygments_lexer": "ipython3",
   "version": "3.7.1"
  }
 },
 "nbformat": 4,
 "nbformat_minor": 2
}
